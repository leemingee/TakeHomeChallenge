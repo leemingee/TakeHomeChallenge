{
 "cells": [
  {
   "cell_type": "code",
   "execution_count": 13,
   "metadata": {},
   "outputs": [],
   "source": [
    "import pandas as pd\n",
    "import numpy as np\n",
    "import sklearn\n",
    "import os\n",
    "import sys\n",
    "import matplotlib.pyplot as plt\n",
    "%matplotlib inline"
   ]
  },
  {
   "cell_type": "markdown",
   "metadata": {},
   "source": [
    "# Task 1: \n",
    "create a table with 3 columns: day, employee_headcount, company_id"
   ]
  },
  {
   "cell_type": "code",
   "execution_count": 2,
   "metadata": {},
   "outputs": [
    {
     "name": "stdout",
     "output_type": "stream",
     "text": [
      "<class 'pandas.core.frame.DataFrame'>\n",
      "RangeIndex: 24702 entries, 0 to 24701\n",
      "Data columns (total 7 columns):\n",
      "employee_id    24702 non-null float64\n",
      "company_id     24702 non-null int64\n",
      "dept           24702 non-null object\n",
      "seniority      24702 non-null int64\n",
      "salary         24702 non-null float64\n",
      "join_date      24702 non-null datetime64[ns]\n",
      "quit_date      13510 non-null datetime64[ns]\n",
      "dtypes: datetime64[ns](2), float64(2), int64(2), object(1)\n",
      "memory usage: 1.3+ MB\n"
     ]
    }
   ],
   "source": [
    "dat = pd.read_csv(\"employee_retention_data.csv\", ).infer_objects()\n",
    "dat.join_date = pd.to_datetime(dat.join_date, infer_datetime_format=True)\n",
    "dat.quit_date = pd.to_datetime(dat.quit_date, infer_datetime_format=True)\n",
    "# dat.astype({'join_date': })\n",
    "dat.info()"
   ]
  },
  {
   "cell_type": "code",
   "execution_count": 3,
   "metadata": {},
   "outputs": [],
   "source": [
    "dat_join = dat.groupby(['join_date', 'company_id']).size().reset_index()\n",
    "dat_join.columns = ['join_date','company_id','join_count']\n",
    "dat_quit = dat.groupby(['quit_date', 'company_id']).size().reset_index()\n",
    "dat_quit.columns = ['quit_date','company_id','quit_count']"
   ]
  },
  {
   "cell_type": "code",
   "execution_count": 4,
   "metadata": {},
   "outputs": [],
   "source": [
    "ts = pd.date_range('24/01/2011','13/12/2015')\n",
    "unique_dates = pd.DataFrame({'date':ts})\n",
    "\n",
    "company_id = pd.unique(dat.company_id)\n",
    "unique_companies = pd.DataFrame({'company_id':company_id})\n",
    "\n",
    "unique_dates['key'] = 0\n",
    "unique_companies['key'] = 0\n",
    "\n",
    "blank = unique_dates.merge(unique_companies,how='right',on='key')\n",
    "blank.drop('key',1, inplace=True)"
   ]
  },
  {
   "cell_type": "code",
   "execution_count": 5,
   "metadata": {},
   "outputs": [],
   "source": [
    "'''\n",
    "company_list=dat.company_id.unique().tolist()\n",
    "company_list=sorted(company_list)\n",
    "date_list = pd.date_range('24/01/2011', '13/12/2015')\n",
    "blank = pd.MultiIndex.from_product([company_list, date_list],\n",
    "                                  names = ['company_id', 'date']).to_frame()\n",
    "'''\n",
    "# another way to construct the blank, using multiindex from_product\n",
    "pass"
   ]
  },
  {
   "cell_type": "code",
   "execution_count": 6,
   "metadata": {},
   "outputs": [],
   "source": [
    "dat_join_update = pd.merge(blank, dat_join, left_on = ['company_id', 'date'],\n",
    "                          right_on = ['company_id', 'join_date'],\n",
    "                          how = 'left', sort = True)\n",
    "dat_quit_update = pd.merge(dat_join_update, dat_quit, left_on = ['company_id', 'date'],\n",
    "                          right_on = ['company_id', 'quit_date'],\n",
    "                          how = 'left', sort = True)"
   ]
  },
  {
   "cell_type": "code",
   "execution_count": 7,
   "metadata": {
    "scrolled": true
   },
   "outputs": [
    {
     "data": {
      "text/html": [
       "<div>\n",
       "<style scoped>\n",
       "    .dataframe tbody tr th:only-of-type {\n",
       "        vertical-align: middle;\n",
       "    }\n",
       "\n",
       "    .dataframe tbody tr th {\n",
       "        vertical-align: top;\n",
       "    }\n",
       "\n",
       "    .dataframe thead th {\n",
       "        text-align: right;\n",
       "    }\n",
       "</style>\n",
       "<table border=\"1\" class=\"dataframe\">\n",
       "  <thead>\n",
       "    <tr style=\"text-align: right;\">\n",
       "      <th></th>\n",
       "      <th>date</th>\n",
       "      <th>company_id</th>\n",
       "      <th>join_count</th>\n",
       "      <th>quit_count</th>\n",
       "    </tr>\n",
       "  </thead>\n",
       "  <tbody>\n",
       "    <tr>\n",
       "      <th>0</th>\n",
       "      <td>2011-01-24</td>\n",
       "      <td>1</td>\n",
       "      <td>25.0</td>\n",
       "      <td>0.0</td>\n",
       "    </tr>\n",
       "    <tr>\n",
       "      <th>1</th>\n",
       "      <td>2011-01-25</td>\n",
       "      <td>1</td>\n",
       "      <td>2.0</td>\n",
       "      <td>0.0</td>\n",
       "    </tr>\n",
       "    <tr>\n",
       "      <th>2</th>\n",
       "      <td>2011-01-26</td>\n",
       "      <td>1</td>\n",
       "      <td>2.0</td>\n",
       "      <td>0.0</td>\n",
       "    </tr>\n",
       "    <tr>\n",
       "      <th>3</th>\n",
       "      <td>2011-01-27</td>\n",
       "      <td>1</td>\n",
       "      <td>0.0</td>\n",
       "      <td>0.0</td>\n",
       "    </tr>\n",
       "    <tr>\n",
       "      <th>4</th>\n",
       "      <td>2011-01-28</td>\n",
       "      <td>1</td>\n",
       "      <td>0.0</td>\n",
       "      <td>0.0</td>\n",
       "    </tr>\n",
       "  </tbody>\n",
       "</table>\n",
       "</div>"
      ],
      "text/plain": [
       "        date  company_id  join_count  quit_count\n",
       "0 2011-01-24           1        25.0         0.0\n",
       "1 2011-01-25           1         2.0         0.0\n",
       "2 2011-01-26           1         2.0         0.0\n",
       "3 2011-01-27           1         0.0         0.0\n",
       "4 2011-01-28           1         0.0         0.0"
      ]
     },
     "execution_count": 7,
     "metadata": {},
     "output_type": "execute_result"
    }
   ],
   "source": [
    "dat_reduced = dat_quit_update[['date', 'company_id', 'join_count', 'quit_count']].fillna(0)\n",
    "dat_reduced.head()"
   ]
  },
  {
   "cell_type": "code",
   "execution_count": 8,
   "metadata": {},
   "outputs": [],
   "source": [
    "dat_reduced['join_cum'] = dat_reduced.join_count.cumsum(axis = 0)\n",
    "dat_reduced['quit_cum'] = dat_reduced.quit_count.cumsum(axis = 0)\n",
    "dat_reduced['employee_headcount'] = dat_reduced.join_cum - dat_reduced.quit_cum\n",
    "dat_reduced = dat_reduced[['date', 'company_id', 'employee_headcount']]"
   ]
  },
  {
   "cell_type": "code",
   "execution_count": 9,
   "metadata": {
    "scrolled": true
   },
   "outputs": [
    {
     "data": {
      "text/html": [
       "<div>\n",
       "<style scoped>\n",
       "    .dataframe tbody tr th:only-of-type {\n",
       "        vertical-align: middle;\n",
       "    }\n",
       "\n",
       "    .dataframe tbody tr th {\n",
       "        vertical-align: top;\n",
       "    }\n",
       "\n",
       "    .dataframe thead th {\n",
       "        text-align: right;\n",
       "    }\n",
       "</style>\n",
       "<table border=\"1\" class=\"dataframe\">\n",
       "  <thead>\n",
       "    <tr style=\"text-align: right;\">\n",
       "      <th></th>\n",
       "      <th>date</th>\n",
       "      <th>company_id</th>\n",
       "      <th>employee_headcount</th>\n",
       "    </tr>\n",
       "  </thead>\n",
       "  <tbody>\n",
       "    <tr>\n",
       "      <th>0</th>\n",
       "      <td>2011-01-24</td>\n",
       "      <td>1</td>\n",
       "      <td>25.0</td>\n",
       "    </tr>\n",
       "    <tr>\n",
       "      <th>1</th>\n",
       "      <td>2011-01-25</td>\n",
       "      <td>1</td>\n",
       "      <td>27.0</td>\n",
       "    </tr>\n",
       "    <tr>\n",
       "      <th>2</th>\n",
       "      <td>2011-01-26</td>\n",
       "      <td>1</td>\n",
       "      <td>29.0</td>\n",
       "    </tr>\n",
       "    <tr>\n",
       "      <th>3</th>\n",
       "      <td>2011-01-27</td>\n",
       "      <td>1</td>\n",
       "      <td>29.0</td>\n",
       "    </tr>\n",
       "    <tr>\n",
       "      <th>4</th>\n",
       "      <td>2011-01-28</td>\n",
       "      <td>1</td>\n",
       "      <td>29.0</td>\n",
       "    </tr>\n",
       "  </tbody>\n",
       "</table>\n",
       "</div>"
      ],
      "text/plain": [
       "        date  company_id  employee_headcount\n",
       "0 2011-01-24           1                25.0\n",
       "1 2011-01-25           1                27.0\n",
       "2 2011-01-26           1                29.0\n",
       "3 2011-01-27           1                29.0\n",
       "4 2011-01-28           1                29.0"
      ]
     },
     "execution_count": 9,
     "metadata": {},
     "output_type": "execute_result"
    }
   ],
   "source": [
    "dat_reduced.head(5)"
   ]
  },
  {
   "cell_type": "code",
   "execution_count": 10,
   "metadata": {},
   "outputs": [
    {
     "name": "stdout",
     "output_type": "stream",
     "text": [
      "data reduced csv file already exists, refer to root folder\n"
     ]
    }
   ],
   "source": [
    "if os.path.isfile('dat_reduced.csv'):\n",
    "    print('data reduced csv file already exists, refer to root folder')\n",
    "else:\n",
    "    dat_reduced.to_csv(\"dat_reduced.csv\", header = True, index = False)"
   ]
  },
  {
   "cell_type": "markdown",
   "metadata": {},
   "source": [
    "# Task 2: \n",
    "what are the main factors that drive employee churn? Do they make sense? Explain your indings"
   ]
  },
  {
   "cell_type": "code",
   "execution_count": 11,
   "metadata": {},
   "outputs": [
    {
     "data": {
      "text/html": [
       "<div>\n",
       "<style scoped>\n",
       "    .dataframe tbody tr th:only-of-type {\n",
       "        vertical-align: middle;\n",
       "    }\n",
       "\n",
       "    .dataframe tbody tr th {\n",
       "        vertical-align: top;\n",
       "    }\n",
       "\n",
       "    .dataframe thead th {\n",
       "        text-align: right;\n",
       "    }\n",
       "</style>\n",
       "<table border=\"1\" class=\"dataframe\">\n",
       "  <thead>\n",
       "    <tr style=\"text-align: right;\">\n",
       "      <th></th>\n",
       "      <th>employee_id</th>\n",
       "      <th>company_id</th>\n",
       "      <th>dept</th>\n",
       "      <th>seniority</th>\n",
       "      <th>salary</th>\n",
       "      <th>join_date</th>\n",
       "      <th>quit_date</th>\n",
       "    </tr>\n",
       "  </thead>\n",
       "  <tbody>\n",
       "    <tr>\n",
       "      <th>0</th>\n",
       "      <td>13021.0</td>\n",
       "      <td>7</td>\n",
       "      <td>customer_service</td>\n",
       "      <td>28</td>\n",
       "      <td>89000.0</td>\n",
       "      <td>2014-03-24</td>\n",
       "      <td>2015-10-30</td>\n",
       "    </tr>\n",
       "    <tr>\n",
       "      <th>1</th>\n",
       "      <td>825355.0</td>\n",
       "      <td>7</td>\n",
       "      <td>marketing</td>\n",
       "      <td>20</td>\n",
       "      <td>183000.0</td>\n",
       "      <td>2013-04-29</td>\n",
       "      <td>2014-04-04</td>\n",
       "    </tr>\n",
       "    <tr>\n",
       "      <th>2</th>\n",
       "      <td>927315.0</td>\n",
       "      <td>4</td>\n",
       "      <td>marketing</td>\n",
       "      <td>14</td>\n",
       "      <td>101000.0</td>\n",
       "      <td>2014-10-13</td>\n",
       "      <td>NaT</td>\n",
       "    </tr>\n",
       "    <tr>\n",
       "      <th>3</th>\n",
       "      <td>662910.0</td>\n",
       "      <td>7</td>\n",
       "      <td>customer_service</td>\n",
       "      <td>20</td>\n",
       "      <td>115000.0</td>\n",
       "      <td>2012-05-14</td>\n",
       "      <td>2013-06-07</td>\n",
       "    </tr>\n",
       "    <tr>\n",
       "      <th>4</th>\n",
       "      <td>256971.0</td>\n",
       "      <td>2</td>\n",
       "      <td>data_science</td>\n",
       "      <td>23</td>\n",
       "      <td>276000.0</td>\n",
       "      <td>2011-10-17</td>\n",
       "      <td>2014-08-22</td>\n",
       "    </tr>\n",
       "  </tbody>\n",
       "</table>\n",
       "</div>"
      ],
      "text/plain": [
       "   employee_id  company_id              dept  seniority    salary  join_date  \\\n",
       "0      13021.0           7  customer_service         28   89000.0 2014-03-24   \n",
       "1     825355.0           7         marketing         20  183000.0 2013-04-29   \n",
       "2     927315.0           4         marketing         14  101000.0 2014-10-13   \n",
       "3     662910.0           7  customer_service         20  115000.0 2012-05-14   \n",
       "4     256971.0           2      data_science         23  276000.0 2011-10-17   \n",
       "\n",
       "   quit_date  \n",
       "0 2015-10-30  \n",
       "1 2014-04-04  \n",
       "2        NaT  \n",
       "3 2013-06-07  \n",
       "4 2014-08-22  "
      ]
     },
     "execution_count": 11,
     "metadata": {},
     "output_type": "execute_result"
    }
   ],
   "source": [
    "dat.head(5)"
   ]
  },
  {
   "cell_type": "markdown",
   "metadata": {},
   "source": [
    "## Data Cleaning"
   ]
  },
  {
   "cell_type": "code",
   "execution_count": 23,
   "metadata": {
    "scrolled": false
   },
   "outputs": [
    {
     "data": {
      "text/plain": [
       "{'whiskers': [<matplotlib.lines.Line2D at 0x1bd58cb8a58>,\n",
       "  <matplotlib.lines.Line2D at 0x1bd58cb8da0>],\n",
       " 'caps': [<matplotlib.lines.Line2D at 0x1bd58cc1128>,\n",
       "  <matplotlib.lines.Line2D at 0x1bd58cc1470>],\n",
       " 'boxes': [<matplotlib.lines.Line2D at 0x1bd58cb8908>],\n",
       " 'medians': [<matplotlib.lines.Line2D at 0x1bd58cc17b8>],\n",
       " 'fliers': [<matplotlib.lines.Line2D at 0x1bd58cc1b00>],\n",
       " 'means': []}"
      ]
     },
     "execution_count": 23,
     "metadata": {},
     "output_type": "execute_result"
    },
    {
     "data": {
      "text/plain": [
       "<Figure size 720x432 with 0 Axes>"
      ]
     },
     "metadata": {},
     "output_type": "display_data"
    },
    {
     "data": {
      "image/png": "[encoded data removed]",
      "text/plain": [
       "<Figure size 432x288 with 2 Axes>"
      ]
     },
     "metadata": {
      "needs_background": "light"
     },
     "output_type": "display_data"
    }
   ],
   "source": [
    "# clean the unreasonable seniority\n",
    "green_diamond = dict(markerfacecolor='g', marker='D')\n",
    "plt.figure(figsize = (10, 6))\n",
    "f, (ax1, ax2) = plt.subplots(1, 2, sharey=False)\n",
    "ax1.boxplot(dat['seniority'], flierprops=green_diamond)\n",
    "ax2.boxplot(dat['salary'], flierprops=green_diamond)"
   ]
  },
  {
   "cell_type": "markdown",
   "metadata": {},
   "source": [
    "I think it s not appropriate to expect the seniors to continue to contribute to the company much longer. They should enjoy their life."
   ]
  },
  {
   "cell_type": "code",
   "execution_count": null,
   "metadata": {},
   "outputs": [],
   "source": [
    "dat = dat"
   ]
  },
  {
   "cell_type": "markdown",
   "metadata": {},
   "source": [
    "## Feature Engineering"
   ]
  },
  {
   "cell_type": "code",
   "execution_count": null,
   "metadata": {
    "scrolled": true
   },
   "outputs": [],
   "source": []
  },
  {
   "cell_type": "code",
   "execution_count": null,
   "metadata": {},
   "outputs": [],
   "source": []
  }
 ],
 "metadata": {
  "kernelspec": {
   "display_name": "Python 3",
   "language": "python",
   "name": "python3"
  },
  "language_info": {
   "codemirror_mode": {
    "name": "ipython",
    "version": 3
   },
   "file_extension": ".py",
   "mimetype": "text/x-python",
   "name": "python",
   "nbconvert_exporter": "python",
   "pygments_lexer": "ipython3",
   "version": "3.6.7"
  }
 },
 "nbformat": 4,
 "nbformat_minor": 2
}
